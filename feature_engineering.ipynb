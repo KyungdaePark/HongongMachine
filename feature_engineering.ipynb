{
  "nbformat": 4,
  "nbformat_minor": 0,
  "metadata": {
    "colab": {
      "name": "feature engineering",
      "provenance": [],
      "collapsed_sections": [],
      "authorship_tag": "ABX9TyPJrpb+fhVL4i+272doiRlS",
      "include_colab_link": true
    },
    "kernelspec": {
      "name": "python3",
      "display_name": "Python 3"
    },
    "language_info": {
      "name": "python"
    }
  },
  "cells": [
    {
      "cell_type": "markdown",
      "metadata": {
        "id": "view-in-github",
        "colab_type": "text"
      },
      "source": [
        "<a href=\"https://colab.research.google.com/github/KyungdaePark/HongongMachine/blob/master/feature_engineering.ipynb\" target=\"_parent\"><img src=\"https://colab.research.google.com/assets/colab-badge.svg\" alt=\"Open In Colab\"/></a>"
      ]
    },
    {
      "cell_type": "code",
      "execution_count": null,
      "metadata": {
        "id": "v4Xzy5c4JBK5"
      },
      "outputs": [],
      "source": [
        "import pandas as pd\n",
        "df = pd.read_csv('https://bit.ly/perch_csv_data')\n",
        "perch_full = df.to_numpy()\n",
        "print(perch_full)"
      ]
    },
    {
      "cell_type": "code",
      "source": [
        "import numpy as np\n",
        "perch_weight = np.array([5.9, 32.0, 40.0, 51.5, 70.0, 100.0, 78.0, 80.0, 85.0, 85.0, 110.0,\n",
        "       115.0, 125.0, 130.0, 120.0, 120.0, 130.0, 135.0, 110.0, 130.0,\n",
        "       150.0, 145.0, 150.0, 170.0, 225.0, 145.0, 188.0, 180.0, 197.0,\n",
        "       218.0, 300.0, 260.0, 265.0, 250.0, 250.0, 300.0, 320.0, 514.0,\n",
        "       556.0, 840.0, 685.0, 700.0, 700.0, 690.0, 900.0, 650.0, 820.0,\n",
        "       850.0, 900.0, 1015.0, 820.0, 1100.0, 1000.0, 1100.0, 1000.0,\n",
        "       1000.0])"
      ],
      "metadata": {
        "id": "7-ZXyA2hJOZV"
      },
      "execution_count": null,
      "outputs": []
    },
    {
      "cell_type": "code",
      "source": [
        "from sklearn.model_selection import train_test_split\n",
        "train_input, test_input, train_target, test_target = train_test_split(\n",
        "    perch_full, perch_weight, random_state = 42\n",
        ")"
      ],
      "metadata": {
        "id": "JUSb26ZIJo45"
      },
      "execution_count": null,
      "outputs": []
    },
    {
      "cell_type": "code",
      "source": [
        "# 사이킷런의 변환기\n",
        "from sklearn.preprocessing import PolynomialFeatures"
      ],
      "metadata": {
        "id": "Z_HqqIg9J4tU"
      },
      "execution_count": null,
      "outputs": []
    },
    {
      "cell_type": "code",
      "source": [
        "poly = PolynomialFeatures(include_bias=False) \n",
        "poly.fit([[2,3]]) #input만 필요\n",
        "print(poly.transform([[2,3]]))\n",
        "# 2 제곱 3 제곱 추가하고 2*3 추가\n",
        "# 무게 = a*길이 + b*높이 + c*두께"
      ],
      "metadata": {
        "colab": {
          "base_uri": "https://localhost:8080/"
        },
        "id": "INaVO2h4KQ0H",
        "outputId": "cf6deb36-a59c-49e9-bd5f-f7d376b4ece2"
      },
      "execution_count": null,
      "outputs": [
        {
          "output_type": "stream",
          "name": "stdout",
          "text": [
            "[[2. 3. 4. 6. 9.]]\n"
          ]
        }
      ]
    },
    {
      "cell_type": "code",
      "source": [
        "poly = PolynomialFeatures(include_bias = False)\n",
        "poly.fit(train_input)\n",
        "train_poly = poly.transform(train_input)\n",
        "print(train_poly.shape)"
      ],
      "metadata": {
        "colab": {
          "base_uri": "https://localhost:8080/"
        },
        "id": "Mc7ngZgMKu2_",
        "outputId": "c26f6657-c4f8-427c-cda9-ad2457a869f8"
      },
      "execution_count": null,
      "outputs": [
        {
          "output_type": "stream",
          "name": "stdout",
          "text": [
            "(42, 9)\n"
          ]
        }
      ]
    },
    {
      "cell_type": "code",
      "source": [
        "print(train_poly)"
      ],
      "metadata": {
        "colab": {
          "base_uri": "https://localhost:8080/"
        },
        "id": "9TatrwZkLMN5",
        "outputId": "bddf1b59-f381-4405-cf04-578f17068df8"
      },
      "execution_count": null,
      "outputs": [
        {
          "output_type": "stream",
          "name": "stdout",
          "text": [
            "[[  19.6       5.14      3.04    384.16    100.744    59.584    26.4196\n",
            "    15.6256    9.2416]\n",
            " [  22.        5.88      3.52    484.      129.36     77.44     34.5744\n",
            "    20.6976   12.3904]\n",
            " [  18.7       5.2       3.12    349.69     97.24     58.344    27.04\n",
            "    16.224     9.7344]\n",
            " [  17.4       4.59      2.94    302.76     79.866    51.156    21.0681\n",
            "    13.4946    8.6436]\n",
            " [  36.       10.61      6.74   1296.      381.96    242.64    112.5721\n",
            "    71.5114   45.4276]\n",
            " [  25.        6.44      3.68    625.      161.       92.       41.4736\n",
            "    23.6992   13.5424]\n",
            " [  40.       11.93      7.11   1600.      477.2     284.4     142.3249\n",
            "    84.8223   50.5521]\n",
            " [  39.       12.43      7.35   1521.      484.77    286.65    154.5049\n",
            "    91.3605   54.0225]\n",
            " [  43.       11.93      7.28   1849.      512.99    313.04    142.3249\n",
            "    86.8504   52.9984]\n",
            " [  22.        5.64      3.52    484.      124.08     77.44     31.8096\n",
            "    19.8528   12.3904]\n",
            " [  20.        5.08      2.77    400.      101.6      55.4      25.8064\n",
            "    14.0716    7.6729]\n",
            " [  22.        6.11      3.52    484.      134.42     77.44     37.3321\n",
            "    21.5072   12.3904]\n",
            " [  24.        7.29      3.72    576.      174.96     89.28     53.1441\n",
            "    27.1188   13.8384]\n",
            " [  27.5       7.17      4.34    756.25    197.175   119.35     51.4089\n",
            "    31.1178   18.8356]\n",
            " [  43.       12.51      7.42   1849.      537.93    319.06    156.5001\n",
            "    92.8242   55.0564]\n",
            " [  40.       11.73      7.22   1600.      469.2     288.8     137.5929\n",
            "    84.6906   52.1284]\n",
            " [  24.        6.38      3.82    576.      153.12     91.68     40.7044\n",
            "    24.3716   14.5924]\n",
            " [  21.        5.92      3.31    441.      124.32     69.51     35.0464\n",
            "    19.5952   10.9561]\n",
            " [  27.5       7.05      4.34    756.25    193.875   119.35     49.7025\n",
            "    30.597    18.8356]\n",
            " [  40.       12.38      7.46   1600.      495.2     298.4     153.2644\n",
            "    92.3548   55.6516]\n",
            " [  32.8      10.03      6.02   1075.84    328.984   197.456   100.6009\n",
            "    60.3806   36.2404]\n",
            " [  26.5       7.17      4.14    702.25    190.005   109.71     51.4089\n",
            "    29.6838   17.1396]\n",
            " [  36.5      10.88      6.86   1332.25    397.12    250.39    118.3744\n",
            "    74.6368   47.0596]\n",
            " [  13.7       3.53      2.      187.69     48.361    27.4      12.4609\n",
            "     7.06      4.    ]\n",
            " [  22.7       5.95      3.63    515.29    135.065    82.401    35.4025\n",
            "    21.5985   13.1769]\n",
            " [  15.        3.82      2.43    225.       57.3      36.45     14.5924\n",
            "     9.2826    5.9049]\n",
            " [  37.       10.57      6.37   1369.      391.09    235.69    111.7249\n",
            "    67.3309   40.5769]\n",
            " [  35.       11.49      7.8    1225.      402.15    273.      132.0201\n",
            "    89.622    60.84  ]\n",
            " [  28.7       7.59      4.64    823.69    217.833   133.168    57.6081\n",
            "    35.2176   21.5296]\n",
            " [  23.5       6.28      3.72    552.25    147.58     87.42     39.4384\n",
            "    23.3616   13.8384]\n",
            " [  39.       11.14      6.     1521.      434.46    234.      124.0996\n",
            "    66.84     36.    ]\n",
            " [  21.        5.69      3.56    441.      119.49     74.76     32.3761\n",
            "    20.2564   12.6736]\n",
            " [  23.        5.22      3.63    529.      120.06     83.49     27.2484\n",
            "    18.9486   13.1769]\n",
            " [  22.        5.52      4.      484.      121.44     88.       30.4704\n",
            "    22.08     16.    ]\n",
            " [  44.       12.49      7.6    1936.      549.56    334.4     156.0001\n",
            "    94.924    57.76  ]\n",
            " [  22.5       6.79      3.62    506.25    152.775    81.45     46.1041\n",
            "    24.5798   13.1044]\n",
            " [  19.        5.64      3.05    361.      107.16     57.95     31.8096\n",
            "    17.202     9.3025]\n",
            " [  37.       10.84      6.26   1369.      401.08    231.62    117.5056\n",
            "    67.8584   39.1876]\n",
            " [  22.        6.11      3.41    484.      134.42     75.02     37.3321\n",
            "    20.8351   11.6281]\n",
            " [  25.6       6.56      4.24    655.36    167.936   108.544    43.0336\n",
            "    27.8144   17.9776]\n",
            " [  42.       12.8       6.87   1764.      537.6     288.54    163.84\n",
            "    87.936    47.1969]\n",
            " [  34.5      10.26      6.39   1190.25    353.97    220.455   105.2676\n",
            "    65.5614   40.8321]]\n"
          ]
        }
      ]
    },
    {
      "cell_type": "code",
      "source": [
        "print(train_input)"
      ],
      "metadata": {
        "colab": {
          "base_uri": "https://localhost:8080/"
        },
        "id": "UjaOJWs3LNuV",
        "outputId": "7f545118-92a0-4dee-d710-25f564737591"
      },
      "execution_count": null,
      "outputs": [
        {
          "output_type": "stream",
          "name": "stdout",
          "text": [
            "[[19.6   5.14  3.04]\n",
            " [22.    5.88  3.52]\n",
            " [18.7   5.2   3.12]\n",
            " [17.4   4.59  2.94]\n",
            " [36.   10.61  6.74]\n",
            " [25.    6.44  3.68]\n",
            " [40.   11.93  7.11]\n",
            " [39.   12.43  7.35]\n",
            " [43.   11.93  7.28]\n",
            " [22.    5.64  3.52]\n",
            " [20.    5.08  2.77]\n",
            " [22.    6.11  3.52]\n",
            " [24.    7.29  3.72]\n",
            " [27.5   7.17  4.34]\n",
            " [43.   12.51  7.42]\n",
            " [40.   11.73  7.22]\n",
            " [24.    6.38  3.82]\n",
            " [21.    5.92  3.31]\n",
            " [27.5   7.05  4.34]\n",
            " [40.   12.38  7.46]\n",
            " [32.8  10.03  6.02]\n",
            " [26.5   7.17  4.14]\n",
            " [36.5  10.88  6.86]\n",
            " [13.7   3.53  2.  ]\n",
            " [22.7   5.95  3.63]\n",
            " [15.    3.82  2.43]\n",
            " [37.   10.57  6.37]\n",
            " [35.   11.49  7.8 ]\n",
            " [28.7   7.59  4.64]\n",
            " [23.5   6.28  3.72]\n",
            " [39.   11.14  6.  ]\n",
            " [21.    5.69  3.56]\n",
            " [23.    5.22  3.63]\n",
            " [22.    5.52  4.  ]\n",
            " [44.   12.49  7.6 ]\n",
            " [22.5   6.79  3.62]\n",
            " [19.    5.64  3.05]\n",
            " [37.   10.84  6.26]\n",
            " [22.    6.11  3.41]\n",
            " [25.6   6.56  4.24]\n",
            " [42.   12.8   6.87]\n",
            " [34.5  10.26  6.39]]\n"
          ]
        }
      ]
    },
    {
      "cell_type": "code",
      "source": [
        "# 왜 9개인지 확인하는 방법 : 각 9개의 특성이 어떤 조합으로 만들어졌는지 확인하기\n",
        "poly.get_feature_names()"
      ],
      "metadata": {
        "colab": {
          "base_uri": "https://localhost:8080/"
        },
        "id": "BbFQ8ij2LPdY",
        "outputId": "cbc3ec2e-f624-4025-dc4d-7e77fb4df69d"
      },
      "execution_count": null,
      "outputs": [
        {
          "output_type": "stream",
          "name": "stderr",
          "text": [
            "/usr/local/lib/python3.7/dist-packages/sklearn/utils/deprecation.py:87: FutureWarning: Function get_feature_names is deprecated; get_feature_names is deprecated in 1.0 and will be removed in 1.2. Please use get_feature_names_out instead.\n",
            "  warnings.warn(msg, category=FutureWarning)\n"
          ]
        },
        {
          "output_type": "execute_result",
          "data": {
            "text/plain": [
              "['x0', 'x1', 'x2', 'x0^2', 'x0 x1', 'x0 x2', 'x1^2', 'x1 x2', 'x2^2']"
            ]
          },
          "metadata": {},
          "execution_count": 11
        }
      ]
    },
    {
      "cell_type": "code",
      "source": [
        "test_poly = poly.transform(test_input)"
      ],
      "metadata": {
        "id": "sgy28FefLcQ8"
      },
      "execution_count": null,
      "outputs": []
    },
    {
      "cell_type": "code",
      "source": [
        "# poly를 이용해 훈련하기 : 우선 linear로 해보자\n",
        "from sklearn.linear_model import LinearRegression\n",
        "lr = LinearRegression()\n",
        "lr.fit(train_poly, train_target)\n",
        "print(lr.score(train_poly, train_target))"
      ],
      "metadata": {
        "colab": {
          "base_uri": "https://localhost:8080/"
        },
        "id": "Jvpi70odLfy8",
        "outputId": "83a830ec-7aea-434a-fb3b-66c9d4963ec5"
      },
      "execution_count": null,
      "outputs": [
        {
          "output_type": "stream",
          "name": "stdout",
          "text": [
            "0.9903183436982124\n"
          ]
        }
      ]
    },
    {
      "cell_type": "code",
      "source": [
        "print(lr.score(test_poly, test_target))"
      ],
      "metadata": {
        "colab": {
          "base_uri": "https://localhost:8080/"
        },
        "id": "xFBJimXeL2DQ",
        "outputId": "0d12752c-94f2-4f7f-80aa-d39b64042ebc"
      },
      "execution_count": null,
      "outputs": [
        {
          "output_type": "stream",
          "name": "stdout",
          "text": [
            "0.9714559911594132\n"
          ]
        }
      ]
    },
    {
      "cell_type": "code",
      "source": [
        "poly = PolynomialFeatures(degree=5, include_bias=False)\n",
        "poly.fit(train_input)\n",
        "train_poly = poly.transform(train_input)\n",
        "test_poly = poly.transform(test_input)\n",
        "print(train_poly.shape)"
      ],
      "metadata": {
        "colab": {
          "base_uri": "https://localhost:8080/"
        },
        "id": "Ohj7aJNpL6fl",
        "outputId": "816b6639-e7d1-4dfc-990c-02c7094b0c7e"
      },
      "execution_count": null,
      "outputs": [
        {
          "output_type": "stream",
          "name": "stdout",
          "text": [
            "(42, 55)\n"
          ]
        }
      ]
    },
    {
      "cell_type": "code",
      "source": [
        "lr.fit(train_poly, train_target)\n",
        "print(lr.score(train_poly, train_target))"
      ],
      "metadata": {
        "colab": {
          "base_uri": "https://localhost:8080/"
        },
        "id": "b-lrRgJEMHo4",
        "outputId": "465671ae-a3cb-4c38-ea66-200765259261"
      },
      "execution_count": null,
      "outputs": [
        {
          "output_type": "stream",
          "name": "stdout",
          "text": [
            "0.9999999999991096\n"
          ]
        }
      ]
    },
    {
      "cell_type": "code",
      "source": [
        "print(lr.score(test_poly, test_target))"
      ],
      "metadata": {
        "colab": {
          "base_uri": "https://localhost:8080/"
        },
        "id": "6qt00V7zMbXl",
        "outputId": "33ed6dac-20ad-45cd-fe02-44ea506f71a7"
      },
      "execution_count": null,
      "outputs": [
        {
          "output_type": "stream",
          "name": "stdout",
          "text": [
            "-144.40579242335605\n"
          ]
        }
      ]
    },
    {
      "cell_type": "code",
      "source": [
        "# 과대적합을 줄이는 법 : 규제 (regularization)\n",
        "# 그전에 정규화 먼저 (표준편차 같은거)\n",
        "from sklearn.preprocessing import StandardScaler\n",
        "ss = StandardScaler()\n",
        "ss.fit(train_poly)\n",
        "train_scaled = ss.transform(train_poly)\n",
        "test_scaled = ss.transform(test_poly)"
      ],
      "metadata": {
        "id": "-1AvIE9hMeIy"
      },
      "execution_count": null,
      "outputs": []
    },
    {
      "cell_type": "code",
      "source": [
        "print(train_scaled)"
      ],
      "metadata": {
        "colab": {
          "base_uri": "https://localhost:8080/"
        },
        "id": "YTI7Ieu7M-BV",
        "outputId": "5e06e07e-e869-420c-b3ff-4e07c07bb627"
      },
      "execution_count": null,
      "outputs": [
        {
          "output_type": "stream",
          "name": "stdout",
          "text": [
            "[[-1.01339619 -1.01007487 -1.01952321 ... -0.76449499 -0.75967179\n",
            "  -0.75143746]\n",
            " [-0.73842893 -0.75254307 -0.74466913 ... -0.73198449 -0.72731765\n",
            "  -0.71950111]\n",
            " [-1.11650891 -0.98919391 -0.97371419 ... -0.76114089 -0.75592147\n",
            "  -0.74734146]\n",
            " ...\n",
            " [-0.32597805 -0.51589222 -0.33238802 ... -0.65673421 -0.64237495\n",
            "  -0.62509499]\n",
            " [ 1.55296488  1.65572732  1.17358328 ...  1.45958191  1.19906225\n",
            "   0.95977016]\n",
            " [ 0.6936922   0.7717668   0.8987292  ...  0.3701756   0.40321427\n",
            "   0.43089551]]\n"
          ]
        }
      ]
    },
    {
      "cell_type": "code",
      "source": [
        "print(test_scaled)"
      ],
      "metadata": {
        "colab": {
          "base_uri": "https://localhost:8080/"
        },
        "id": "jS8DGqHYNbE6",
        "outputId": "0ce9010c-a95c-4597-f226-e12957728e1d"
      },
      "execution_count": null,
      "outputs": [
        {
          "output_type": "stream",
          "name": "stdout",
          "text": [
            "[[-2.29657672 -2.0645632  -1.95288184 -1.55255604 -1.46585499 -1.45227925\n",
            "  -1.38306012 -1.36853915 -1.3414385  -1.16487216 -1.12766176 -1.12993021\n",
            "  -1.09096504 -1.0919529  -1.08681842 -1.05473034 -1.05422049 -1.04733556\n",
            "  -1.03445922 -0.95097661 -0.93581382 -0.94095847 -0.92003743 -0.92481854\n",
            "  -0.9257405  -0.90344054 -0.9076728  -0.90768173 -0.90365223 -0.88585964\n",
            "  -0.88933355 -0.8882214  -0.88265495 -0.87279092 -0.82345261 -0.81922614\n",
            "  -0.82441462 -0.81401521 -0.81951597 -0.82223805 -0.80760074 -0.81327179\n",
            "  -0.81584326 -0.81548696 -0.79980303 -0.80545985 -0.80768359 -0.80657966\n",
            "  -0.80223729 -0.79049072 -0.7959136  -0.79756241 -0.7954801  -0.78971903\n",
            "  -0.78033726]\n",
            " [-1.1967077  -0.98223359 -0.85919166 -1.06961356 -0.99185789 -0.95563426\n",
            "  -0.92268296 -0.88613609 -0.84269005 -0.95543049 -0.92180981 -0.91161782\n",
            "  -0.8899864  -0.87889323 -0.86304299 -0.85973625 -0.84769699 -0.83072978\n",
            "  -0.80943128 -0.86077079 -0.84687971 -0.8461171  -0.83281408 -0.8317974\n",
            "  -0.82728294 -0.81834373 -0.81694967 -0.81173866 -0.80298189 -0.80327626\n",
            "  -0.80135489 -0.79530144 -0.78534516 -0.77173444 -0.78478184 -0.78096749\n",
            "  -0.78350179 -0.77633489 -0.77919846 -0.77938006 -0.7706636  -0.77373776\n",
            "  -0.77382592 -0.77113018 -0.76376939 -0.76689397 -0.76671775 -0.76338276\n",
            "  -0.75701539 -0.75551288 -0.75849268 -0.75785074 -0.75367246 -0.74605227\n",
            "  -0.73508934]\n",
            " [-0.10829564 -0.26532073 -0.14342584 -0.24593976 -0.33131102 -0.27243127\n",
            "  -0.40265507 -0.35050682 -0.29821992 -0.35720728 -0.41275545 -0.37927599\n",
            "  -0.46104218 -0.43120179 -0.40006675 -0.50217849 -0.47546163 -0.44697315\n",
            "  -0.41752952 -0.43955403 -0.47838318 -0.45869722 -0.51266418 -0.49543041\n",
            "  -0.47652523 -0.54227188 -0.52720101 -0.51007945 -0.49137278 -0.56713757\n",
            "  -0.55389039 -0.53820264 -0.52049616 -0.50118122 -0.49517033 -0.52360145\n",
            "  -0.51213233 -0.54889187 -0.53932835 -0.52805098 -0.57086145 -0.56303393\n",
            "  -0.55318112 -0.54162663 -0.58936748 -0.5830527  -0.57438498 -0.56363991\n",
            "  -0.55107079 -0.60431627 -0.59924207 -0.5914739  -0.58123598 -0.56875011\n",
            "  -0.55422941]\n",
            " [-0.81862772 -0.57853509 -0.738943   -0.82248284 -0.73113338 -0.79571408\n",
            "  -0.65093557 -0.71169499 -0.76327608 -0.8022618  -0.76121974 -0.79401922\n",
            "  -0.72296056 -0.75433563 -0.78051233 -0.68732556 -0.71713607 -0.74154223\n",
            "  -0.76020112 -0.76978797 -0.75179697 -0.77060729 -0.73407251 -0.75258613\n",
            "  -0.76753283 -0.71644692 -0.73448767 -0.74866417 -0.75888391 -0.69878366\n",
            "  -0.71615292 -0.72935643 -0.73823558 -0.74269123 -0.73257105 -0.72649476\n",
            "  -0.73820709 -0.71980781 -0.7318739  -0.7412557  -0.71232779 -0.72460225\n",
            "  -0.73391413 -0.74031354 -0.70390569 -0.71620373 -0.72524745 -0.73101545\n",
            "  -0.73348857 -0.69443261 -0.70653706 -0.71508543 -0.7199886  -0.72118204\n",
            "  -0.71862298]\n",
            " [-0.68114409 -0.75950338 -0.68740786 -0.72232715 -0.75627694 -0.73081938\n",
            "  -0.77947435 -0.75565643 -0.72775096 -0.73322359 -0.7515994  -0.74233684\n",
            "  -0.76481887 -0.75612413 -0.74426574 -0.77314237 -0.76467111 -0.75254167\n",
            "  -0.73721994 -0.72427389 -0.73627421 -0.73415044 -0.74516458 -0.74361211\n",
            "  -0.73938954 -0.75087205 -0.7496633  -0.74536    -0.73821087 -0.75336735\n",
            "  -0.75224054 -0.74759464 -0.73962901 -0.72854714 -0.70364297 -0.7130676\n",
            "  -0.71410625 -0.72033861 -0.72213271 -0.72166176 -0.72529665 -0.72769393\n",
            "  -0.72748477 -0.72487075 -0.72781884 -0.73062065 -0.7304617  -0.72748287\n",
            "  -0.72180382 -0.72782876 -0.73079685 -0.73044144 -0.72684421 -0.72008928\n",
            "  -0.71025915]\n",
            " [ 1.3238255   1.07802084  1.03615624  1.3618677   1.19446273  1.17373268\n",
            "   1.033252    1.01345388  0.97549516  1.36984437  1.23129919  1.22016253\n",
            "   1.09441651  1.08302453  1.05800897  0.96074813  0.94877972  0.9240712\n",
            "   0.88764321  1.35386393  1.23239325  1.22695068  1.11084329  1.10530435\n",
            "   1.08849943  0.99030039  0.98427975  0.96739138  0.94028698  0.87183585\n",
            "   0.86504935  0.84788047  0.82093734  0.78504083  1.31876159  1.21004868\n",
            "   1.2081401   1.10039124  1.09883545  1.08760649  0.99062375  0.98899015\n",
            "   0.97788169  0.95781701  0.88163698  0.87954304  0.86824624  0.84818487\n",
            "   0.81992945  0.77435816  0.77149339  0.75978003  0.73960146  0.71151416\n",
            "   0.67622559]\n",
            " [ 0.17812859 -0.14699531 -0.02890331  0.027983   -0.15473411 -0.09182273\n",
            "  -0.3003459  -0.2470788  -0.19509493 -0.10923639 -0.23224777 -0.19210572\n",
            "  -0.33485164 -0.30089042 -0.26674934 -0.41906495 -0.39017926 -0.3603381\n",
            "  -0.330376   -0.22478082 -0.31284136 -0.28593235 -0.38791008 -0.36545298\n",
            "  -0.3421272  -0.45093717 -0.43228569 -0.41224439 -0.39132398 -0.50283979\n",
            "  -0.48732767 -0.46989981 -0.45101196 -0.43109779 -0.3157627  -0.38061879\n",
            "  -0.36237202 -0.43664275 -0.42180499 -0.40581033 -0.48431807 -0.47250396\n",
            "  -0.45914798 -0.44461482 -0.52411135 -0.51489433 -0.50373586 -0.49095029\n",
            "  -0.47682545 -0.5564887  -0.5494066  -0.53997169 -0.52844121 -0.51506466\n",
            "  -0.5000772 ]\n",
            " [-0.44054774 -0.45672951 -0.3724709  -0.53384924 -0.54669755 -0.51178812\n",
            "  -0.55826963 -0.52543518 -0.49122044 -0.59345801 -0.60397658 -0.58782771\n",
            "  -0.61330454 -0.59791637 -0.58057145 -0.62108537 -0.60629105 -0.58915749\n",
            "  -0.57024418 -0.62510833 -0.63439993 -0.62744306 -0.64246531 -0.6361526\n",
            "  -0.62778928 -0.64898548 -0.64318419 -0.63497132 -0.6246573  -0.65368977\n",
            "  -0.6482235  -0.63997847 -0.62922433 -0.61622116 -0.6357825  -0.64453288\n",
            "  -0.64230038 -0.6520728  -0.65061542 -0.64722559 -0.65813193 -0.65734876\n",
            "  -0.6543233  -0.64928993 -0.66247532 -0.66221742 -0.65939288 -0.65418357\n",
            "  -0.64674656 -0.66491373 -0.66498892 -0.66216219 -0.65656316 -0.64831788\n",
            "  -0.63754423]\n",
            " [ 1.2092558   1.07802084  1.52860313  1.21132928  1.12519981  1.45265239\n",
            "   1.033252    1.33539869  1.64587384  1.18272067  1.11384441  1.39555887\n",
            "   1.03936724  1.30560358  1.58711463  0.96074813  1.21059325  1.47338283\n",
            "   1.74507446  1.13144732  1.07353057  1.32922915  1.01040966  1.2556662\n",
            "   1.51886923  0.94288921  1.17656537  1.42638392  1.68998797  0.87183585\n",
            "   1.09294569  1.32826227  1.57495727  1.82965585  1.06393902  1.01453292\n",
            "   1.25065503  0.96032382  1.18919565  1.43707588  0.9018098   1.12228312\n",
            "   1.36051559  1.61530122  0.83958962  1.05057318  1.27789275  1.51987001\n",
            "   1.77433527  0.77435816  0.97486278  1.1901319   1.41803382  1.65588587\n",
            "   1.90041674]\n",
            " [-0.85299862 -0.8186661  -0.65877723 -0.84666426 -0.8331252  -0.77621768\n",
            "  -0.81912774 -0.76677617 -0.70762834 -0.81835568 -0.81263636 -0.79022984\n",
            "  -0.80595863 -0.78490916 -0.75904685 -0.79811068 -0.77813659 -0.75316597\n",
            "  -0.72394824 -0.78002987 -0.77908933 -0.77124529 -0.77698909 -0.76994462\n",
            "  -0.75931413 -0.77347408 -0.76703681 -0.75671636 -0.7428557  -0.76833733\n",
            "  -0.76227808 -0.75203497 -0.73790718 -0.72021956 -0.73885332 -0.74120314\n",
            "  -0.73974667 -0.74235609 -0.74171775 -0.73832283 -0.74207438 -0.74211725\n",
            "  -0.73911586 -0.73330337 -0.74015872 -0.74069956 -0.7378954  -0.73192143\n",
            "  -0.72294152 -0.7364579  -0.73727348 -0.73443432 -0.72805943 -0.71828082\n",
            "  -0.70523895]\n",
            " [ 1.72481941  1.58612413  1.90080136  1.91876456  1.83175617  2.09506946\n",
            "   1.73322772  1.97809871  2.20674018  2.1019044   2.03452169  2.2924834\n",
            "   1.95590086  2.20209648  2.44228485  1.86774636  2.10059533  2.32578721\n",
            "   2.53862827  2.27453863  2.22000729  2.4847778   2.15426735  2.41159019\n",
            "   2.66821257  2.07804047  2.32610306  2.5718034   2.81127692  1.99221929\n",
            "   2.22931155  2.46226097  2.6867633   2.89843108  2.43543965  2.3914918\n",
            "   2.66654828  2.33626557  2.60724266  2.88111974  2.27000233  2.53503702\n",
            "   2.80162069  3.06668197  2.1931748   2.4503606   2.70755651  2.96112319\n",
            "   3.20716247  2.10650504  2.35396485  2.59974015  2.8396619   3.06932593\n",
            "   3.28414148]\n",
            " [-1.40293314 -1.20148364 -1.2542944  -1.18691919 -1.11373327 -1.13343391\n",
            "  -1.04749571 -1.06285222 -1.06933869 -1.0186101  -0.98676327 -0.9978216\n",
            "  -0.95615574 -0.96530738 -0.96938609 -0.92657374 -0.93369343 -0.93544845\n",
            "  -0.93198324 -0.8933371  -0.88017323 -0.88799601 -0.86661376 -0.87390897\n",
            "  -0.87767387 -0.85242147 -0.85902464 -0.86173603 -0.86067476 -0.83740083\n",
            "  -0.84312219 -0.84458928 -0.84186965 -0.83505536 -0.80097634 -0.79747051\n",
            "  -0.80355441 -0.79305421 -0.79939536 -0.80306598 -0.78750181 -0.79396381\n",
            "  -0.79743837 -0.79807579 -0.78062564 -0.78702994 -0.79011647 -0.78997005\n",
            "  -0.78666    -0.772285   -0.778418   -0.78089431 -0.77973717 -0.77497901\n",
            "  -0.76665825]\n",
            " [-0.05101079 -0.07739212 -0.35529252 -0.19306076 -0.21467078 -0.35612791\n",
            "  -0.23798294 -0.3648089  -0.47735818 -0.31103098 -0.32929083 -0.41578754\n",
            "  -0.34801063 -0.42769876 -0.49910105 -0.36657286 -0.43955398 -0.50421788\n",
            "  -0.5597471  -0.40099727 -0.4166512  -0.47325279 -0.43210884 -0.48528419\n",
            "  -0.53289824 -0.44694502 -0.49662963 -0.54064369 -0.57858572 -0.46076936\n",
            "  -0.50687943 -0.54717229 -0.58119478 -0.60865895 -0.46413883 -0.47782546\n",
            "  -0.51597706 -0.49097158 -0.52751911 -0.56004448 -0.50325562 -0.53811347\n",
            "  -0.56883079 -0.5952504  -0.51437807 -0.54742944 -0.57618617 -0.60042312\n",
            "  -0.61998832 -0.52407211 -0.55517307 -0.58179231 -0.60364247 -0.62052305\n",
            "  -0.63231021]\n",
            " [-0.13120957  0.09661586  0.18296338 -0.26682458 -0.16383652 -0.12061645\n",
            "  -0.07500721 -0.03142511  0.00732927 -0.37521441 -0.31995745 -0.29547289\n",
            "  -0.2692716  -0.24367702 -0.2191279  -0.22313594 -0.19678323 -0.17178386\n",
            "  -0.14880539 -0.4543995  -0.42390929 -0.40986567 -0.39474505 -0.37991751\n",
            "  -0.3647214  -0.36693687 -0.35142142 -0.33556787 -0.31979201 -0.34053478\n",
            "  -0.32443706 -0.30805992 -0.29182166 -0.27608293 -0.50696686 -0.49100897\n",
            "  -0.48321152 -0.47505536 -0.46697883 -0.45795912 -0.45908482 -0.45072071\n",
            "  -0.44132138 -0.43118558 -0.44310488 -0.43443688 -0.42465189 -0.41403251\n",
            "  -0.40282102 -0.42715079 -0.41815904 -0.40798137 -0.39688734 -0.38511629\n",
            "  -0.37287161]]\n"
          ]
        }
      ]
    },
    {
      "cell_type": "code",
      "source": [
        "# 선형 회귀에 규제를 추가한 모델 : 릿지(ridge)와 라쏘(lasso)\n",
        "# ridge : 계수를 제곱한 값을 기준으로 규제를 정함\n",
        "# lasso : 계수의 절댓값을 기준으로 규제를 정함\n",
        "\n",
        "from sklearn.linear_model import Ridge\n",
        "ridge = Ridge()\n",
        "ridge.fit(train_scaled, train_target)\n",
        "print(ridge.score(train_scaled, train_target))"
      ],
      "metadata": {
        "colab": {
          "base_uri": "https://localhost:8080/"
        },
        "id": "-3LzOHLWNcTB",
        "outputId": "98daf1d4-a721-4b82-ce11-b6aaa1ad38e2"
      },
      "execution_count": null,
      "outputs": [
        {
          "output_type": "stream",
          "name": "stdout",
          "text": [
            "0.9896101671037343\n"
          ]
        }
      ]
    },
    {
      "cell_type": "code",
      "source": [
        "# 규제는 훈련이 너무 과도하지 않게 만드는 것, 선형 회귀의 경우 다항식의 계수를 줄이는 방식으로\n",
        "print(ridge.score(test_scaled, test_target))"
      ],
      "metadata": {
        "colab": {
          "base_uri": "https://localhost:8080/"
        },
        "id": "jXP4_nPyOBBz",
        "outputId": "b663b6ed-fdc3-4bbb-9185-2fc779983070"
      },
      "execution_count": null,
      "outputs": [
        {
          "output_type": "stream",
          "name": "stdout",
          "text": [
            "0.9790693977615397\n"
          ]
        }
      ]
    },
    {
      "cell_type": "code",
      "source": [
        "# alpha를 이용해 규제를 약하게 또는 강하게 할수있음\n",
        "# 이렇게 사람이 해야하는값을 하이퍼파라미터 라고 함\n",
        "\n",
        "# 적절한 alpha값 찾기 : R^2 그래프 그려보기, 훈련 세트와 테스트 세트의 점수가 가장 가까운 시점이 최적의 alpha값\n",
        "\n",
        "import matplotlib.pyplot as plt\n",
        "train_score = []\n",
        "test_score = []\n",
        "\n",
        "alpha_list = [0.001, 0.01, 0.1, 1, 10, 100]\n",
        "for alpha in alpha_list:\n",
        "  ridge = Ridge(alpha=alpha)\n",
        "  ridge.fit(train_scaled, train_target)\n",
        "  train_score.append(ridge.score(train_scaled, train_target))\n",
        "  test_score.append(ridge.score(test_scaled, test_target))"
      ],
      "metadata": {
        "id": "jXnaPH_nOebU"
      },
      "execution_count": null,
      "outputs": []
    },
    {
      "cell_type": "code",
      "source": [
        "plt.plot(np.log10(alpha_list), train_score)\n",
        "plt.plot(np.log10(alpha_list), test_score)\n",
        "plt.xlabel('alpha')\n",
        "plt.ylabel('R^2')\n",
        "plt.show()"
      ],
      "metadata": {
        "colab": {
          "base_uri": "https://localhost:8080/",
          "height": 279
        },
        "id": "0nxZNt2_PQyM",
        "outputId": "4bfca768-151d-48d2-be7d-830876d08a2c"
      },
      "execution_count": null,
      "outputs": [
        {
          "output_type": "display_data",
          "data": {
            "image/png": "[encoded data removed]",
            "text/plain": [
              "<Figure size 432x288 with 1 Axes>"
            ]
          },
          "metadata": {
            "needs_background": "light"
          }
        }
      ]
    },
    {
      "cell_type": "code",
      "source": [
        "# alpha = 0.1이 최적임.\n",
        "ridge = Ridge(alpha=0.1)\n",
        "ridge.fit(train_scaled, train_target)\n",
        "print(ridge.score(train_scaled, train_target))\n",
        "print(ridge.score(test_scaled, test_target))"
      ],
      "metadata": {
        "colab": {
          "base_uri": "https://localhost:8080/"
        },
        "id": "50GCBlA1Pa-B",
        "outputId": "a79d5947-6156-4440-f9c1-3f20999d63f5"
      },
      "execution_count": null,
      "outputs": [
        {
          "output_type": "stream",
          "name": "stdout",
          "text": [
            "0.9903815817570366\n",
            "0.9827976465386927\n"
          ]
        }
      ]
    },
    {
      "cell_type": "code",
      "source": [
        "from sklearn.linear_model import Lasso\n",
        "lasso = Lasso()\n",
        "lasso.fit(train_scaled, train_target)\n",
        "print(lasso.score(train_scaled, train_target))"
      ],
      "metadata": {
        "colab": {
          "base_uri": "https://localhost:8080/"
        },
        "id": "ArIsFoKrP6yT",
        "outputId": "b7a4003e-9a09-412b-856a-c0dbbbf92397"
      },
      "execution_count": null,
      "outputs": [
        {
          "output_type": "stream",
          "name": "stdout",
          "text": [
            "0.989789897208096\n"
          ]
        }
      ]
    },
    {
      "cell_type": "code",
      "source": [
        "print(lasso.score(test_scaled, test_target))"
      ],
      "metadata": {
        "colab": {
          "base_uri": "https://localhost:8080/"
        },
        "id": "qdEOh-9RXGUU",
        "outputId": "a14084f6-3c3e-4650-9c68-276b0726eb75"
      },
      "execution_count": null,
      "outputs": [
        {
          "output_type": "stream",
          "name": "stdout",
          "text": [
            "0.9800593698421883\n"
          ]
        }
      ]
    },
    {
      "cell_type": "code",
      "source": [
        "train_score = []\n",
        "test_score = []\n",
        "\n",
        "alpha_list = [0.001, 0.01, 0.1, 1, 10, 100]\n",
        "for alpha in alpha_list:\n",
        "  lasso = Lasso(alpha = alpha)\n",
        "  lasso.fit(train_scaled, train_target)\n",
        "  train_score.append(lasso.score(train_scaled, train_target))\n",
        "  test_score.append(lasso.score(test_scaled, test_target))"
      ],
      "metadata": {
        "colab": {
          "base_uri": "https://localhost:8080/"
        },
        "id": "0rN6ciA8XKDd",
        "outputId": "9f0f5c99-0557-4ab3-aba4-0fbb722c8237"
      },
      "execution_count": null,
      "outputs": [
        {
          "output_type": "stream",
          "name": "stderr",
          "text": [
            "/usr/local/lib/python3.7/dist-packages/sklearn/linear_model/_coordinate_descent.py:648: ConvergenceWarning: Objective did not converge. You might want to increase the number of iterations, check the scale of the features or consider increasing regularisation. Duality gap: 2.336e+04, tolerance: 5.183e+02\n",
            "  coef_, l1_reg, l2_reg, X, y, max_iter, tol, rng, random, positive\n",
            "/usr/local/lib/python3.7/dist-packages/sklearn/linear_model/_coordinate_descent.py:648: ConvergenceWarning: Objective did not converge. You might want to increase the number of iterations, check the scale of the features or consider increasing regularisation. Duality gap: 2.025e+04, tolerance: 5.183e+02\n",
            "  coef_, l1_reg, l2_reg, X, y, max_iter, tol, rng, random, positive\n",
            "/usr/local/lib/python3.7/dist-packages/sklearn/linear_model/_coordinate_descent.py:648: ConvergenceWarning: Objective did not converge. You might want to increase the number of iterations, check the scale of the features or consider increasing regularisation. Duality gap: 8.062e+02, tolerance: 5.183e+02\n",
            "  coef_, l1_reg, l2_reg, X, y, max_iter, tol, rng, random, positive\n"
          ]
        }
      ]
    },
    {
      "cell_type": "code",
      "source": [
        "plt.plot(np.log10(alpha_list), train_score)\n",
        "plt.plot(np.log10(alpha_list), test_score)\n",
        "plt.xlabel('alpha')\n",
        "plt.ylabel('R^2')\n",
        "plt.show()"
      ],
      "metadata": {
        "colab": {
          "base_uri": "https://localhost:8080/",
          "height": 279
        },
        "id": "KeIpYcEMXUzP",
        "outputId": "6e3fce2a-eee5-4899-f27e-9dffca3da01c"
      },
      "execution_count": null,
      "outputs": [
        {
          "output_type": "display_data",
          "data": {
            "image/png": "[encoded data removed]",
            "text/plain": [
              "<Figure size 432x288 with 1 Axes>"
            ]
          },
          "metadata": {
            "needs_background": "light"
          }
        }
      ]
    },
    {
      "cell_type": "code",
      "source": [
        "lasso = Lasso(alpha=10)\n",
        "lasso.fit(train_scaled, train_target)\n",
        "print(lasso.score(train_scaled, train_target))\n",
        "print(lasso.score(test_scaled, test_target))"
      ],
      "metadata": {
        "colab": {
          "base_uri": "https://localhost:8080/"
        },
        "id": "P3kikBqrXaMv",
        "outputId": "45fcaffb-843a-4aa8-bc35-9a3b2a8345ed"
      },
      "execution_count": null,
      "outputs": [
        {
          "output_type": "stream",
          "name": "stdout",
          "text": [
            "0.9888067471131867\n",
            "0.9824470598706695\n"
          ]
        }
      ]
    },
    {
      "cell_type": "code",
      "source": [
        "#계수를 0으로 만드는 계수값(coef_)는 몇개?\n",
        "print(np.sum(lasso.coef_ == 0)) # 40개는 필요없음!"
      ],
      "metadata": {
        "colab": {
          "base_uri": "https://localhost:8080/"
        },
        "id": "ZopgUWcXKX0Y",
        "outputId": "00573aaa-278f-46ed-f146-cd53eae43f99"
      },
      "execution_count": null,
      "outputs": [
        {
          "output_type": "stream",
          "name": "stdout",
          "text": [
            "40\n"
          ]
        }
      ]
    },
    {
      "cell_type": "code",
      "source": [
        ""
      ],
      "metadata": {
        "id": "RCZ1PP5hX2qg"
      },
      "execution_count": null,
      "outputs": []
    }
  ]
}