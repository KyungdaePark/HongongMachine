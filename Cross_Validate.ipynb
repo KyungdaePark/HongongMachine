{
  "nbformat": 4,
  "nbformat_minor": 0,
  "metadata": {
    "colab": {
      "name": "Cross Validate",
      "provenance": [],
      "collapsed_sections": [],
      "authorship_tag": "ABX9TyO8iejkzxRXsG7uB0O5KxpD",
      "include_colab_link": true
    },
    "kernelspec": {
      "name": "python3",
      "display_name": "Python 3"
    },
    "language_info": {
      "name": "python"
    }
  },
  "cells": [
    {
      "cell_type": "markdown",
      "metadata": {
        "id": "view-in-github",
        "colab_type": "text"
      },
      "source": [
        "<a href=\"https://colab.research.google.com/github/KyungdaePark/HongongMachine/blob/master/Cross_Validate.ipynb\" target=\"_parent\"><img src=\"https://colab.research.google.com/assets/colab-badge.svg\" alt=\"Open In Colab\"/></a>"
      ]
    },
    {
      "cell_type": "code",
      "execution_count": null,
      "metadata": {
        "id": "lTo4vBZV6Q0g"
      },
      "outputs": [],
      "source": [
        "# 교차 검증, 훈련/테스트 세트로 나눈 뒤 훈련 세트를 한번 더 훈련/검증 세트로 나누는것\n",
        "# 여기서는 훈련 80 테스트 20 에서 훈련의 훈련 80 훈련의 검증 20으로 나눔\n",
        "# 훈련 64 검증 16 테스트 20으로 나눔\n",
        "\n",
        "# 이걸 왜 하냐, 가장 최적의 모델을 구하기 위해서, dt에서 언제까지 max_depth를 하나하나 설정하고, classifier의 매개변수를 모두 다 한번씩 해볼 순 없기 때문\n",
        "import pandas as pd\n",
        "wine = pd.read_csv('http://bit.ly/wine_csv_data')\n",
        "data = wine[['alcohol', 'sugar', 'pH']].to_numpy()\n",
        "target = wine[['class']].to_numpy()\n",
        "\n",
        "from sklearn.model_selection import train_test_split\n",
        "train_input, test_input, train_target, test_target = train_test_split(\n",
        "    data, target, test_size = 0.2, random_state = 42\n",
        ")"
      ]
    },
    {
      "cell_type": "code",
      "source": [
        "sub_input, val_input, sub_target, val_target = train_test_split(\n",
        "    train_input, train_target, test_size = 0.2, random_state = 42\n",
        ")"
      ],
      "metadata": {
        "id": "JD4KLYF8gsQf"
      },
      "execution_count": null,
      "outputs": []
    },
    {
      "cell_type": "code",
      "source": [
        "print(sub_input.shape, val_input.shape)"
      ],
      "metadata": {
        "colab": {
          "base_uri": "https://localhost:8080/"
        },
        "id": "m4J24CQAg1kV",
        "outputId": "3e9088bb-0834-4ce6-f613-febb1698474e"
      },
      "execution_count": null,
      "outputs": [
        {
          "output_type": "stream",
          "name": "stdout",
          "text": [
            "(4157, 3) (1040, 3)\n"
          ]
        }
      ]
    },
    {
      "cell_type": "code",
      "source": [
        "# sub는 4157개 val은 1040개 \n",
        "# 이제 dt 평가\n",
        "from sklearn.tree import DecisionTreeClassifier\n",
        "dt = DecisionTreeClassifier(random_state = 42)\n",
        "dt.fit(sub_input, sub_target)\n",
        "print(dt.score(sub_input, sub_target))\n",
        "print(dt.score(val_input, val_target))"
      ],
      "metadata": {
        "colab": {
          "base_uri": "https://localhost:8080/"
        },
        "id": "Pp1AdB3Tg50d",
        "outputId": "d9d03d6d-fbb6-4e38-f9e9-4889b77eeec1"
      },
      "execution_count": null,
      "outputs": [
        {
          "output_type": "stream",
          "name": "stdout",
          "text": [
            "0.9971133028626413\n",
            "0.864423076923077\n"
          ]
        }
      ]
    },
    {
      "cell_type": "code",
      "source": [
        "# 훈련 세트에 overfitted\n",
        "# 교차검증(cross validation 을 해보자. 이건 훈련 세트 中 검증 세트를 모든 경우의 수로 정해 검증한다. p.245)\n",
        "# 5-fold cross validation, cross_validation()\n",
        "from sklearn.model_selection import cross_validate\n",
        "time_and_score = cross_validate(dt, train_input, train_target)\n",
        "print(time_and_score)\n"
      ],
      "metadata": {
        "colab": {
          "base_uri": "https://localhost:8080/"
        },
        "id": "UaLwXolxhKyQ",
        "outputId": "46910de1-917a-484a-c384-2fee45ecbc87"
      },
      "execution_count": null,
      "outputs": [
        {
          "output_type": "stream",
          "name": "stdout",
          "text": [
            "{'fit_time': array([0.01109457, 0.00708532, 0.00742269, 0.00834131, 0.00721145]), 'score_time': array([0.00083947, 0.00073218, 0.00080037, 0.00080872, 0.00077844]), 'test_score': array([0.86923077, 0.84615385, 0.87680462, 0.84889317, 0.83541867])}\n"
          ]
        }
      ]
    },
    {
      "cell_type": "code",
      "source": [
        "from sklearn.model_selection import cross_val_score\n",
        "score = cross_val_score(dt, train_input, train_target)\n",
        "print(score)"
      ],
      "metadata": {
        "colab": {
          "base_uri": "https://localhost:8080/"
        },
        "id": "fWfFQ0jrh7nG",
        "outputId": "03ee04bb-955e-4a4f-c138-ead3153fbbe1"
      },
      "execution_count": null,
      "outputs": [
        {
          "output_type": "stream",
          "name": "stdout",
          "text": [
            "[0.86923077 0.84615385 0.87680462 0.84889317 0.83541867]\n"
          ]
        }
      ]
    },
    {
      "cell_type": "code",
      "source": [
        "# 기본으로 5-fold cross validate\n",
        "import numpy as np\n",
        "print(np.mean(time_and_score['test_score']))"
      ],
      "metadata": {
        "colab": {
          "base_uri": "https://localhost:8080/"
        },
        "id": "Wgn4wxHOiEdF",
        "outputId": "b7b40793-620f-4d7a-9fcf-bc141dae3e25"
      },
      "execution_count": null,
      "outputs": [
        {
          "output_type": "stream",
          "name": "stdout",
          "text": [
            "0.855300214703487\n"
          ]
        }
      ]
    },
    {
      "cell_type": "code",
      "source": [
        "# 근데 애는 안섞고 그냥 5조각으로 나눠서함. 그래서 분할기 (splitter)가 필요함\n",
        "# 회귀모델이면 KFold 분류 모델이면 StratifiedKFold 함수 用, 이 코드는 위 코드랑 같은거 ( 노 셔플 )\n",
        "from sklearn.model_selection import StratifiedKFold \n",
        "scores = cross_validate(dt, train_input, train_target, cv = StratifiedKFold())\n",
        "print(np.mean(scores['test_score']))"
      ],
      "metadata": {
        "colab": {
          "base_uri": "https://localhost:8080/"
        },
        "id": "QrKXqEliiVEQ",
        "outputId": "602fae5c-08cb-4e1e-d829-7e462592e13f"
      },
      "execution_count": null,
      "outputs": [
        {
          "output_type": "stream",
          "name": "stdout",
          "text": [
            "0.855300214703487\n"
          ]
        }
      ]
    },
    {
      "cell_type": "code",
      "source": [
        "print(scores['test_score'])"
      ],
      "metadata": {
        "colab": {
          "base_uri": "https://localhost:8080/"
        },
        "id": "x2gQCndHiw8X",
        "outputId": "922e94fb-ff7d-4d78-c36d-9c76d5cf470c"
      },
      "execution_count": null,
      "outputs": [
        {
          "output_type": "stream",
          "name": "stdout",
          "text": [
            "[0.86923077 0.84615385 0.87680462 0.84889317 0.83541867]\n"
          ]
        }
      ]
    },
    {
      "cell_type": "code",
      "source": [
        "# 10-fold cv?\n",
        "splitter = StratifiedKFold(n_splits=10, shuffle=True, random_state =42)\n",
        "scores2 = cross_validate(dt,train_input, train_target, cv=splitter)\n",
        "print(scores2)"
      ],
      "metadata": {
        "colab": {
          "base_uri": "https://localhost:8080/"
        },
        "id": "0SDaR86Ki-N6",
        "outputId": "8c8d8287-0625-44bb-e895-4998e79d4bcb"
      },
      "execution_count": null,
      "outputs": [
        {
          "output_type": "stream",
          "name": "stdout",
          "text": [
            "{'fit_time': array([0.01598477, 0.00865173, 0.00904918, 0.00875187, 0.00986719,\n",
            "       0.0086937 , 0.00825453, 0.00831485, 0.00821471, 0.00885701]), 'score_time': array([0.00125742, 0.00081182, 0.00080824, 0.00074577, 0.00132751,\n",
            "       0.0007391 , 0.00070572, 0.00070906, 0.00072622, 0.0007596 ]), 'test_score': array([0.83461538, 0.87884615, 0.85384615, 0.85384615, 0.84615385,\n",
            "       0.87307692, 0.85961538, 0.85549133, 0.85163776, 0.86705202])}\n"
          ]
        }
      ]
    },
    {
      "cell_type": "code",
      "source": [
        "print(np.mean(scores2['test_score']))"
      ],
      "metadata": {
        "colab": {
          "base_uri": "https://localhost:8080/"
        },
        "id": "bwTgY9Y3jWPd",
        "outputId": "53619583-7849-4531-bc34-01aeb884579a"
      },
      "execution_count": null,
      "outputs": [
        {
          "output_type": "stream",
          "name": "stdout",
          "text": [
            "0.8574181117533719\n"
          ]
        }
      ]
    },
    {
      "cell_type": "code",
      "source": [
        "# 그럼 이제 cross validate(교차 검증)을 통해서 최적의 모델을 찾아보자\n",
        "\n",
        "# 하이퍼파라미터 튜닝 : 매개변수를 튜닝\n",
        "# 근데 매개변수가 2개이상이면? A 와 B params를 동시에 바꿔가면서 해야하는데 for문을 이용해야 함\n",
        "# 근데 for문 할 필요 없이 이를 대신 해주는 도구가 있음 : GridSearchCV\n",
        "# 또 cross_validate()를 호출할 필요도 없음\n",
        "\n",
        "# dt에서 min_impurity_decrease 매개변수의 최적값을 찾아보자\n",
        "\n",
        "from sklearn.model_selection import GridSearchCV\n",
        "params = {'min_impurity_decrease' : [0.0001, 0.0002, 0.0003, 0.0004, 0.0005]}\n",
        "gs = GridSearchCV(DecisionTreeClassifier(random_state = 42), params, n_jobs=-1)\n",
        "# 1. GridSearchCV는 기본적으로 Cross Validate 를 5번 실행함(cv=5)\n",
        "# 2. 그리고 여기에서 params가 5개 있음\n",
        "# 3. 즉, #1 * #2 = 25번 반복함. 이때 활동하는 cpu코어의 수는 n_jobs, n_jobs = -1이면 cpu의 모든 코어 사용\n",
        "\n",
        "gs.fit(train_input, train_target)"
      ],
      "metadata": {
        "colab": {
          "base_uri": "https://localhost:8080/"
        },
        "id": "3cr9W_nvjZTm",
        "outputId": "fa7204aa-0b9d-482c-ef25-0c69dcd7707b"
      },
      "execution_count": null,
      "outputs": [
        {
          "output_type": "execute_result",
          "data": {
            "text/plain": [
              "GridSearchCV(estimator=DecisionTreeClassifier(random_state=42), n_jobs=-1,\n",
              "             param_grid={'min_impurity_decrease': [0.0001, 0.0002, 0.0003,\n",
              "                                                   0.0004, 0.0005]})"
            ]
          },
          "metadata": {},
          "execution_count": 79
        }
      ]
    },
    {
      "cell_type": "code",
      "source": [
        "# 이중에서 최고의 모델은 best_estimator_에 있음\n",
        "print(gs.best_estimator_)"
      ],
      "metadata": {
        "colab": {
          "base_uri": "https://localhost:8080/"
        },
        "id": "ixv3BJxrkls3",
        "outputId": "a7534b75-8d33-4e23-f59c-f5d65b0554c0"
      },
      "execution_count": null,
      "outputs": [
        {
          "output_type": "stream",
          "name": "stdout",
          "text": [
            "DecisionTreeClassifier(min_impurity_decrease=0.0001, random_state=42)\n"
          ]
        }
      ]
    },
    {
      "cell_type": "code",
      "source": [
        "dt = gs.best_estimator_\n",
        "print(dt.score(train_input, train_target))"
      ],
      "metadata": {
        "colab": {
          "base_uri": "https://localhost:8080/"
        },
        "id": "SaVbn6W8kxIY",
        "outputId": "4ccdfde9-e2df-409c-eefe-8efe1146abd9"
      },
      "execution_count": null,
      "outputs": [
        {
          "output_type": "stream",
          "name": "stdout",
          "text": [
            "0.9615162593804117\n"
          ]
        }
      ]
    },
    {
      "cell_type": "code",
      "source": [
        "# 혼자 해보는거, 진짜 맞는지 그래프로 그려보자\n",
        "\n",
        "par = [0.0001, 0.0002, 0.0003, 0.0004, 0.0005]\n",
        "scores = []\n",
        "for i in range(0,5):\n",
        "  dt2 = DecisionTreeClassifier(random_state =42, min_impurity_decrease = par[i])\n",
        "  dt2.fit(train_input, train_target)\n",
        "  scores.append(dt2.score(train_input, train_target))\n",
        "\n",
        "import matplotlib.pyplot as plt\n",
        "plt.scatter(par,scores)\n",
        "plt.xlim(0,0.0005)\n",
        "plt.show()"
      ],
      "metadata": {
        "colab": {
          "base_uri": "https://localhost:8080/",
          "height": 265
        },
        "id": "ScHaHrcik2Vl",
        "outputId": "b622eb62-fa4e-4021-fd6f-35fa15b1e035"
      },
      "execution_count": null,
      "outputs": [
        {
          "output_type": "display_data",
          "data": {
            "image/png": "[encoded data removed]",
            "text/plain": [
              "<Figure size 432x288 with 1 Axes>"
            ]
          },
          "metadata": {
            "needs_background": "light"
          }
        }
      ]
    },
    {
      "cell_type": "code",
      "source": [
        "print(gs.best_params_)"
      ],
      "metadata": {
        "colab": {
          "base_uri": "https://localhost:8080/"
        },
        "id": "R1Ji1Ia3lox_",
        "outputId": "76b5dddf-40cc-4764-a159-a07da01f9327"
      },
      "execution_count": null,
      "outputs": [
        {
          "output_type": "stream",
          "name": "stdout",
          "text": [
            "{'min_impurity_decrease': 0.0001}\n"
          ]
        }
      ]
    },
    {
      "cell_type": "code",
      "source": [
        "print(gs.cv_results_['mean_test_score'])"
      ],
      "metadata": {
        "colab": {
          "base_uri": "https://localhost:8080/"
        },
        "id": "swIkf0gir505",
        "outputId": "c28ab6b9-0d03-4102-cf9d-1d6788b80bd1"
      },
      "execution_count": null,
      "outputs": [
        {
          "output_type": "stream",
          "name": "stdout",
          "text": [
            "[0.86819297 0.86453617 0.86492226 0.86780891 0.86761605]\n"
          ]
        }
      ]
    },
    {
      "cell_type": "code",
      "source": [
        "#min_impurity_decrease 가 각각 10^(-4) * (1,2,3,4,5)일 경우 5-fold cv의 결과\n",
        "\n",
        "best_index = np.argmax(gs.cv_results_['mean_test_score'])\n",
        "print(gs.cv_results_['params'][best_index])"
      ],
      "metadata": {
        "colab": {
          "base_uri": "https://localhost:8080/"
        },
        "id": "hGAA8S0Vr95A",
        "outputId": "21a6d9d6-7982-465d-d7d4-891b45bd08bb"
      },
      "execution_count": null,
      "outputs": [
        {
          "output_type": "stream",
          "name": "stdout",
          "text": [
            "{'min_impurity_decrease': 0.0001}\n"
          ]
        }
      ]
    },
    {
      "cell_type": "code",
      "source": [
        "#1. 검증세트를 분류한다. 검증세트는 훈련세트의 20%\n",
        "#2. 근데 이 검증세트를 정하는 방식을 여러번 반복한다. K-fold Cross Validate, cross_validate()함수가 해줌\n",
        "#3. 하이퍼파라미터(=사용자 지정 파라미터)를 이용해 최적의 모델을 찾고 싶다. 이럴 때는 GridSearch를 이용한다.\n",
        "#   GridSearch는 기본값(5)만큼 교차 검증을 하고, 정해준 params(여기서는 min_impurity_decrease) 개수만큼 각자의 교차 검증에 파라미터를 대입해 보며\n",
        "#   가장 적합한 모델의 정보를 best_estimator_ 변수에 저장한다.\n",
        "\n",
        "params = {'min_impurity_decrease' : np.arange(0.0001, 0.001, 0.0001),\n",
        "          'max_depth' : range(5,20,1),\n",
        "          'min_samples_split' : range(2,100,10)\n",
        "          }\n",
        "          # np.arange : 0.0001, 0.0002 ... 0.0009\n",
        "          # range(a,b,c) : a,a+c,a+2c ...b-1 ==> (5,20,1) : 5, 6, 7 ... 19\n",
        "\n",
        "          # 그래서 총 교차 검증 횟수 : 9 * 15 * 10 * 5(K-FoldCV) = 6750\n",
        "\n",
        "gs = GridSearchCV(DecisionTreeClassifier(random_state=42), params, n_jobs=-1)\n",
        "gs.fit(train_input, train_target)"
      ],
      "metadata": {
        "colab": {
          "base_uri": "https://localhost:8080/"
        },
        "id": "uG2erMiHxGTG",
        "outputId": "06f05203-cdfb-49bf-f683-ccb109c8e0f2"
      },
      "execution_count": null,
      "outputs": [
        {
          "output_type": "execute_result",
          "data": {
            "text/plain": [
              "GridSearchCV(estimator=DecisionTreeClassifier(random_state=42), n_jobs=-1,\n",
              "             param_grid={'max_depth': range(5, 20),\n",
              "                         'min_impurity_decrease': array([0.0001, 0.0002, 0.0003, 0.0004, 0.0005, 0.0006, 0.0007, 0.0008,\n",
              "       0.0009]),\n",
              "                         'min_samples_split': range(2, 100, 10)})"
            ]
          },
          "metadata": {},
          "execution_count": 60
        }
      ]
    },
    {
      "cell_type": "code",
      "source": [
        "print(gs.best_params_)"
      ],
      "metadata": {
        "colab": {
          "base_uri": "https://localhost:8080/"
        },
        "id": "eZqZKyWs1oOG",
        "outputId": "6d9bc920-4907-444b-c96d-451c16ebb28d"
      },
      "execution_count": null,
      "outputs": [
        {
          "output_type": "stream",
          "name": "stdout",
          "text": [
            "{'max_depth': 14, 'min_impurity_decrease': 0.0004, 'min_samples_split': 12}\n"
          ]
        }
      ]
    },
    {
      "cell_type": "code",
      "source": [
        "print(np.max(gs.cv_results_['mean_test_score']))"
      ],
      "metadata": {
        "colab": {
          "base_uri": "https://localhost:8080/"
        },
        "id": "2k-hIs6G1wZa",
        "outputId": "14fa3444-946e-4548-a588-5f3849db6048"
      },
      "execution_count": null,
      "outputs": [
        {
          "output_type": "stream",
          "name": "stdout",
          "text": [
            "0.8683865773302731\n"
          ]
        }
      ]
    },
    {
      "cell_type": "code",
      "source": [
        "print(gs.best_estimator_)"
      ],
      "metadata": {
        "colab": {
          "base_uri": "https://localhost:8080/"
        },
        "id": "QJFB4eBE1746",
        "outputId": "89271f20-ab9a-4198-9a1b-6205bda89754"
      },
      "execution_count": null,
      "outputs": [
        {
          "output_type": "stream",
          "name": "stdout",
          "text": [
            "DecisionTreeClassifier(max_depth=14, min_impurity_decrease=0.0004,\n",
            "                       min_samples_split=12, random_state=42)\n"
          ]
        }
      ]
    },
    {
      "cell_type": "code",
      "source": [
        "# 간격을 어떻게 하나. -> 랜덤 서치(Random Search)\n",
        "# RS에는 매개변수 값의 목록을 전달하지 않고 매개변수를 샘플링 할 수 있는 확률분포객체를 전달함\n",
        "from scipy.stats import uniform, randint\n",
        "#randint는 정수값을 뽑고 uniform은 실숫값을 뽑음\n",
        "\n",
        "rgen = randint(0,10)\n",
        "rgen.rvs(10)"
      ],
      "metadata": {
        "colab": {
          "base_uri": "https://localhost:8080/"
        },
        "id": "QFynbOrtXgz1",
        "outputId": "65f57df3-4713-4263-d194-ebcd3083ddd8"
      },
      "execution_count": null,
      "outputs": [
        {
          "output_type": "execute_result",
          "data": {
            "text/plain": [
              "array([9, 3, 3, 0, 0, 3, 5, 5, 1, 5])"
            ]
          },
          "metadata": {},
          "execution_count": 64
        }
      ]
    },
    {
      "cell_type": "code",
      "source": [
        "np.unique(rgen.rvs(1000), return_counts = True)"
      ],
      "metadata": {
        "colab": {
          "base_uri": "https://localhost:8080/"
        },
        "id": "ls5N-6lNYLyB",
        "outputId": "c3778045-b213-4a15-ba3e-9a162dee82a6"
      },
      "execution_count": null,
      "outputs": [
        {
          "output_type": "execute_result",
          "data": {
            "text/plain": [
              "(array([0, 1, 2, 3, 4, 5, 6, 7, 8, 9]),\n",
              " array([ 79, 110,  98, 108,  95,  81, 107, 109, 105, 108]))"
            ]
          },
          "metadata": {},
          "execution_count": 65
        }
      ]
    },
    {
      "cell_type": "code",
      "source": [
        "np.unique(rgen.rvs(1000))"
      ],
      "metadata": {
        "colab": {
          "base_uri": "https://localhost:8080/"
        },
        "id": "VhjASO1HYUOT",
        "outputId": "e90b204a-1e44-457f-dc4b-4af0c0a3c534"
      },
      "execution_count": null,
      "outputs": [
        {
          "output_type": "execute_result",
          "data": {
            "text/plain": [
              "array([0, 1, 2, 3, 4, 5, 6, 7, 8, 9])"
            ]
          },
          "metadata": {},
          "execution_count": 66
        }
      ]
    },
    {
      "cell_type": "code",
      "source": [
        "ugen = uniform(0,1)\n",
        "ugen.rvs(10)"
      ],
      "metadata": {
        "colab": {
          "base_uri": "https://localhost:8080/"
        },
        "id": "NDJlBldpYcfL",
        "outputId": "1a0411e3-0db5-4e29-9bb6-6c5d96b74bb7"
      },
      "execution_count": null,
      "outputs": [
        {
          "output_type": "execute_result",
          "data": {
            "text/plain": [
              "array([0.34354446, 0.14540471, 0.51015308, 0.13291245, 0.23278927,\n",
              "       0.98470034, 0.26452305, 0.45290359, 0.67623911, 0.20767313])"
            ]
          },
          "metadata": {},
          "execution_count": 67
        }
      ]
    },
    {
      "cell_type": "code",
      "source": [
        "# 난수 발생기 ? 근데 좀 골고루 난수를 발생시킴\n",
        "\n",
        "# min_samples_leaf : 어떤 노드가 분할하여 만들어질 자식 노드의 샘플 수가 이 값보다 작으면 분할하지 않음\n",
        "\n",
        "params = {'min_impurity_decrease': uniform(0.0001, 0.001),\n",
        "          'max_depth' : randint(20,50),\n",
        "          'min_samples_split' : randint(2,25),\n",
        "          'min_samples_leaf' : randint(1,25),\n",
        "          }"
      ],
      "metadata": {
        "id": "M-VOi0jxYh7z"
      },
      "execution_count": null,
      "outputs": []
    },
    {
      "cell_type": "code",
      "source": [
        "from sklearn.model_selection import RandomizedSearchCV\n",
        "gs = RandomizedSearchCV(DecisionTreeClassifier(random_state = 42), params, n_iter=100, n_jobs = -1, random_state=42)\n",
        "gs.fit(train_input, train_target)"
      ],
      "metadata": {
        "colab": {
          "base_uri": "https://localhost:8080/"
        },
        "id": "1pceaadOZNFa",
        "outputId": "d3a89b94-cf18-4358-dad7-4dbcaecbcf61"
      },
      "execution_count": null,
      "outputs": [
        {
          "output_type": "execute_result",
          "data": {
            "text/plain": [
              "RandomizedSearchCV(estimator=DecisionTreeClassifier(random_state=42),\n",
              "                   n_iter=100, n_jobs=-1,\n",
              "                   param_distributions={'max_depth': <scipy.stats._distn_infrastructure.rv_frozen object at 0x7f7938e75b90>,\n",
              "                                        'min_impurity_decrease': <scipy.stats._distn_infrastructure.rv_frozen object at 0x7f7938e755d0>,\n",
              "                                        'min_samples_leaf': <scipy.stats._distn_infrastructure.rv_frozen object at 0x7f7938e75810>,\n",
              "                                        'min_samples_split': <scipy.stats._distn_infrastructure.rv_frozen object at 0x7f7938e75390>},\n",
              "                   random_state=42)"
            ]
          },
          "metadata": {},
          "execution_count": 69
        }
      ]
    },
    {
      "cell_type": "code",
      "source": [
        "print(gs.best_params_)"
      ],
      "metadata": {
        "colab": {
          "base_uri": "https://localhost:8080/"
        },
        "id": "7HBv8D7jZi_h",
        "outputId": "841f9ff2-f558-4612-f84b-2954a9067718"
      },
      "execution_count": null,
      "outputs": [
        {
          "output_type": "stream",
          "name": "stdout",
          "text": [
            "{'max_depth': 39, 'min_impurity_decrease': 0.00034102546602601173, 'min_samples_leaf': 7, 'min_samples_split': 13}\n"
          ]
        }
      ]
    },
    {
      "cell_type": "code",
      "source": [
        "print(np.max(gs.cv_results_['mean_test_score'])) # 최고의 교차 검증 점수 (CV score)"
      ],
      "metadata": {
        "colab": {
          "base_uri": "https://localhost:8080/"
        },
        "id": "KgWSYwHSZwtm",
        "outputId": "47b54d38-76bc-4f3e-868f-9c5bbd003ddc"
      },
      "execution_count": null,
      "outputs": [
        {
          "output_type": "stream",
          "name": "stdout",
          "text": [
            "0.8695428296438884\n"
          ]
        }
      ]
    },
    {
      "cell_type": "code",
      "source": [
        "dt = gs.best_estimator_\n",
        "print(dt.score(train_input, train_target))"
      ],
      "metadata": {
        "colab": {
          "base_uri": "https://localhost:8080/"
        },
        "id": "fbWmAKwHZ0HB",
        "outputId": "b9ef304c-f276-4fa6-c468-7be6448f049a"
      },
      "execution_count": null,
      "outputs": [
        {
          "output_type": "stream",
          "name": "stdout",
          "text": [
            "0.8928227823744468\n"
          ]
        }
      ]
    },
    {
      "cell_type": "code",
      "source": [
        "print(dt.score(test_input, test_target))"
      ],
      "metadata": {
        "colab": {
          "base_uri": "https://localhost:8080/"
        },
        "id": "eb_kxMJAZ5cY",
        "outputId": "235121c3-201a-40d1-a8e6-d6e3fd305b7b"
      },
      "execution_count": null,
      "outputs": [
        {
          "output_type": "stream",
          "name": "stdout",
          "text": [
            "0.86\n"
          ]
        }
      ]
    },
    {
      "cell_type": "code",
      "source": [
        ""
      ],
      "metadata": {
        "id": "5p7S4NShaBR1"
      },
      "execution_count": null,
      "outputs": []
    }
  ]
}